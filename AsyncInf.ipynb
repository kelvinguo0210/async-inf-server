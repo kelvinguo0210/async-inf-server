{
 "cells": [
  {
   "cell_type": "markdown",
   "id": "721e6d14",
   "metadata": {},
   "source": [
    "## Prepare"
   ]
  },
  {
   "cell_type": "code",
   "execution_count": null,
   "id": "e15051a5",
   "metadata": {},
   "outputs": [],
   "source": [
    "%%sh\n",
    "\n",
    "sudo yum install -y yum-utils shadow-utils\n",
    "sudo yum-config-manager --add-repo https://rpm.releases.hashicorp.com/AmazonLinux/hashicorp.repo\n",
    "sudo yum -y install terraform"
   ]
  },
  {
   "cell_type": "code",
   "execution_count": null,
   "id": "70f74bef",
   "metadata": {},
   "outputs": [],
   "source": [
    "!terraform version"
   ]
  },
  {
   "cell_type": "markdown",
   "id": "bb2c1bbb",
   "metadata": {},
   "source": [
    "## policy needed for both samgemaker notebook & terraform\n",
    "[sagemaker role](sm-exec-role.txt)   \n",
    "AmazonDynamoDBFullAccess(optional)"
   ]
  },
  {
   "cell_type": "markdown",
   "id": "343e0b17",
   "metadata": {},
   "source": [
    "## Build & Push Image for Lambda"
   ]
  },
  {
   "cell_type": "code",
   "execution_count": null,
   "id": "2ac5de7b",
   "metadata": {},
   "outputs": [],
   "source": [
    "%%sh\n",
    "\n",
    "cd /home/ec2-user/SageMaker/asyncInf\n",
    "\n",
    "# The name of our algorithm\n",
    "image_name=sagemaker-kwm-apigw\n",
    "\n",
    "cd container\n",
    "\n",
    "account=$(aws sts get-caller-identity --query Account --output text)\n",
    "\n",
    "# Get the region defined in the current configuration (default to us-west-2 if none defined)\n",
    "region=$(aws configure get region)\n",
    "region=${region:-us-east-1}\n",
    "\n",
    "# If the repository doesn't exist in ECR, create it.\n",
    "aws ecr describe-repositories --repository-names \"${image_name}\" > /dev/null 2>&1\n",
    "if [ $? -ne 0 ]\n",
    "then\n",
    "    aws ecr create-repository --repository-name \"${image_name}\" > /dev/null\n",
    "fi\n",
    "\n",
    "# build & push\n",
    "fullname=\"${account}.dkr.ecr.${region}.amazonaws.com/${image_name}:latest\"\n",
    "aws ecr get-login-password --region ${region}|docker login --username AWS --password-stdin ${fullname}\n",
    "docker build -t ${image_name} .\n",
    "docker tag ${image_name} ${fullname}\n",
    "docker push ${fullname}\n",
    "\n",
    "\n",
    "# deploy apigw & lambda\n",
    "cd /home/ec2-user/SageMaker/asyncInf/infra/\n",
    "terraform apply -auto-approve "
   ]
  },
  {
   "cell_type": "markdown",
   "id": "27cfe62f",
   "metadata": {},
   "source": [
    "## Build Infra by Terraform"
   ]
  },
  {
   "cell_type": "code",
   "execution_count": null,
   "id": "77203a59",
   "metadata": {},
   "outputs": [],
   "source": [
    "%%sh\n",
    "\n",
    "cd asyncInf/infra/\n",
    "terraform init"
   ]
  },
  {
   "cell_type": "code",
   "execution_count": null,
   "id": "a03eaa4d",
   "metadata": {},
   "outputs": [],
   "source": [
    "%%sh\n",
    "\n",
    "cd asyncInf/infra/\n",
    "terraform plan"
   ]
  },
  {
   "cell_type": "code",
   "execution_count": null,
   "id": "2f89596b",
   "metadata": {},
   "outputs": [],
   "source": [
    "%%sh\n",
    "\n",
    "cd /home/ec2-user/SageMaker/asyncInf/infra/\n",
    "terraform apply -auto-approve "
   ]
  },
  {
   "cell_type": "markdown",
   "id": "3ffe29a3",
   "metadata": {},
   "source": [
    "## Trigger Async Inference"
   ]
  },
  {
   "cell_type": "code",
   "execution_count": null,
   "id": "e9a16bd9",
   "metadata": {},
   "outputs": [],
   "source": [
    "%%sh\n",
    "\n",
    "## make sure ecr 'repo name' is the same as 'type' below, in the example, they both are 'sagemaker-kwm-deberta-inf'\n",
    "\n",
    "## whitelist\n",
    "#curl -d '{\"type\":\"deberta123\"}' -H 'Content-Type: application/json' https://llmm8ax93f.execute-api.us-east-1.amazonaws.com/serverless_lambda_stage/inference\n",
    "\n",
    "## normal schedule a job, current only one item in whitelist\n",
    "#curl -d '{\"type\":\"sagemaker-kwm-deberta-inf\"}' -H 'Content-Type: application/json' https://llmm8ax93f.execute-api.us-east-1.amazonaws.com/serverless_lambda_stage/inference\n",
    "\n",
    "curl -d '{\"type\":\"sagemaker-kwm-deberta\"}' -H 'Content-Type: application/json' https://xxxxxx.execute-api.us-east-1.amazonaws.com/serverless_lambda_stage/inference    \n",
    "\n",
    "## you'll get a status 200, then you could go to: https://us-east-1.console.aws.amazon.com/sagemaker/home?region=us-east-1#/jobs for seeing the status of job.\n",
    "\n",
    "## assum limit is 1, when a job is in processing, if you schedule the job again, will get the information below\n",
    "## {\"status\": 502, \"errMsg\": \"Failed to schedule inference at the moment, due to reaching limit 1.\"}\n"
   ]
  },
  {
   "cell_type": "markdown",
   "id": "c72ffa18",
   "metadata": {},
   "source": [
    "## TODOs"
   ]
  },
  {
   "cell_type": "markdown",
   "id": "84b215d8",
   "metadata": {},
   "source": [
    "~~apigw in terraform~~  \n",
    "~~security - terraform credential~~    \n",
    "~~req from apigw to lambda~~ \n",
    "~~call sagemaker~~  \n",
    "~~concurrency limit solution (id) - limit should be param  ~~ \n",
    "environment vars\n",
    "\n",
    "status checking  \n",
    "fsx lustre in container\n",
    "try code commit integration\n",
    "blue/green deploy plan\n",
    "sagemaker project template integration?\n",
    "\n",
    "tf init deps in china  "
   ]
  },
  {
   "cell_type": "code",
   "execution_count": null,
   "id": "2bef93d7",
   "metadata": {},
   "outputs": [],
   "source": [
    "#Deploy:\n",
    "\n",
    "extract tar.gz, make sure 'ayncInf'\n",
    "\n",
    "open jupiter and intall terrafrom\n",
    "setup roles from roles.txt\n",
    "vars.tf  region & whitelist &role-arn\n",
    "build & push, region -> cn-north-1\n",
    "\n",
    "remove terraform states & exec buildAndPush.sh\n",
    "get enpoint & update cell in jupiter\n",
    "update region btw in jupiter\n"
   ]
  }
 ],
 "metadata": {
  "kernelspec": {
   "display_name": "conda_pytorch_p38",
   "language": "python",
   "name": "conda_pytorch_p38"
  },
  "language_info": {
   "codemirror_mode": {
    "name": "ipython",
    "version": 3
   },
   "file_extension": ".py",
   "mimetype": "text/x-python",
   "name": "python",
   "nbconvert_exporter": "python",
   "pygments_lexer": "ipython3",
   "version": "3.8.12"
  }
 },
 "nbformat": 4,
 "nbformat_minor": 5
}
